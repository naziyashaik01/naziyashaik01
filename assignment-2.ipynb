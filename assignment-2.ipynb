{
 "cells": [
  {
   "cell_type": "code",
   "execution_count": 1,
   "metadata": {},
   "outputs": [
    {
     "name": "stdout",
     "output_type": "stream",
     "text": [
      "*\n",
      "**\n",
      "***\n",
      "****\n",
      "*****\n",
      "****\n",
      "***\n",
      "**\n",
      "*"
     ]
    }
   ],
   "source": [
    "for i in range(1):\n",
    "    print('*',end='')\n",
    "print('')\n",
    "\n",
    "for j in range(2):\n",
    "    print('*',end='')\n",
    "print('')\n",
    "\n",
    "for k in range(3):\n",
    "    print('*',end='')\n",
    "print('')\n",
    "\n",
    "for m in range(4):\n",
    "    print('*',end='')\n",
    "print('')\n",
    "\n",
    "for n in range(5):\n",
    "    print('*',end=\"\")\n",
    "print('')\n",
    "\n",
    "for o in range(4):\n",
    "    print('*',end=\"\")\n",
    "print('')\n",
    "\n",
    "for p in range(3):\n",
    "    print('*',end=\"\")\n",
    "print('')\n",
    "\n",
    "for q in range(2):\n",
    "    print('*',end=\"\")\n",
    "print('')\n",
    "\n",
    "for r in range(1):\n",
    "    print('*',end=\"\")\n",
    "    "
   ]
  },
  {
   "cell_type": "code",
   "execution_count": 2,
   "metadata": {},
   "outputs": [
    {
     "name": "stdout",
     "output_type": "stream",
     "text": [
      "enter the word All The Best\n",
      "tseB ehT llA\n"
     ]
    }
   ],
   "source": [
    "a=input(\"enter the word \")\n",
    "print(a[::-1])"
   ]
  }
 ],
 "metadata": {
  "kernelspec": {
   "display_name": "Python 3",
   "language": "python",
   "name": "python3"
  },
  "language_info": {
   "codemirror_mode": {
    "name": "ipython",
    "version": 3
   },
   "file_extension": ".py",
   "mimetype": "text/x-python",
   "name": "python",
   "nbconvert_exporter": "python",
   "pygments_lexer": "ipython3",
   "version": "3.8.5"
  }
 },
 "nbformat": 4,
 "nbformat_minor": 4
}
